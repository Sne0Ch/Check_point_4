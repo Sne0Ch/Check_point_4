{
 "cells": [
  {
   "cell_type": "markdown",
   "metadata": {
    "azdata_cell_guid": "26037d32-2047-4157-81ef-595916bd66a0"
   },
   "source": [
    "# Checkpoint Four\n",
    "\n",
    "\n",
    "My dataset is https://www.kaggle.com/datasets/raghadalharbi/breast-cancer-gene-expression-profiles-metabric "
   ]
  },
  {
   "cell_type": "code",
   "execution_count": 1,
   "metadata": {
    "azdata_cell_guid": "e8adef8e-d0f2-4640-a179-5997f11e82ca"
   },
   "outputs": [],
   "source": [
    "# Importing libraries\n",
    "import pandas as pd\n",
    "import numpy as np\n",
    "import matplotlib.pyplot as plt\n",
    "import seaborn as sns\n",
    "\n",
    "#Creating dataframe from cleaned data\n",
    "df = pd.read_csv(\"clean_metabric.csv\")"
   ]
  },
  {
   "cell_type": "code",
   "execution_count": 2,
   "metadata": {},
   "outputs": [
    {
     "data": {
      "text/plain": [
       "(1517, 28)"
      ]
     },
     "execution_count": 2,
     "metadata": {},
     "output_type": "execute_result"
    }
   ],
   "source": [
    "# Checking rows and columns of the dataframe\n",
    "df.shape"
   ]
  },
  {
   "cell_type": "code",
   "execution_count": 3,
   "metadata": {},
   "outputs": [
    {
     "name": "stdout",
     "output_type": "stream",
     "text": [
      "<class 'pandas.core.frame.DataFrame'>\n",
      "RangeIndex: 1517 entries, 0 to 1516\n",
      "Data columns (total 28 columns):\n",
      " #   Column                          Non-Null Count  Dtype  \n",
      "---  ------                          --------------  -----  \n",
      " 0   Unnamed: 0                      1517 non-null   int64  \n",
      " 1   age_at_diagnosis                1517 non-null   float64\n",
      " 2   type_of_breast_surgery          1517 non-null   object \n",
      " 3   cancer_type                     1517 non-null   object \n",
      " 4   cancer_type_detailed            1517 non-null   object \n",
      " 5   cellularity                     1517 non-null   object \n",
      " 6   chemotherapy                    1517 non-null   int64  \n",
      " 7   pam50_claudin_low_subtype       1517 non-null   object \n",
      " 8   cohort                          1517 non-null   float64\n",
      " 9   estrogen_status                 1517 non-null   object \n",
      " 10  neoplasm_histologic_grade       1517 non-null   float64\n",
      " 11  her2_status                     1517 non-null   object \n",
      " 12  tumor_other_histologic_subtype  1517 non-null   object \n",
      " 13  hormone_therapy                 1517 non-null   int64  \n",
      " 14  inferred_menopausal_state       1517 non-null   object \n",
      " 15  integrative_cluster             1517 non-null   object \n",
      " 16  lymph_nodes_examined_positive   1517 non-null   float64\n",
      " 17  mutation_count                  1517 non-null   float64\n",
      " 18  nottingham_prognostic_index     1517 non-null   float64\n",
      " 19  oncotree_code                   1517 non-null   object \n",
      " 20  overall_survival_months         1517 non-null   float64\n",
      " 21  overall_survival                1517 non-null   int64  \n",
      " 22  progesterone_status             1517 non-null   object \n",
      " 23  radio_therapy                   1517 non-null   int64  \n",
      " 24  3-gene_classifier_subtype       1517 non-null   object \n",
      " 25  tumor_size                      1517 non-null   float64\n",
      " 26  death_from_cancer               1517 non-null   object \n",
      " 27  overall_survival_years          1517 non-null   int64  \n",
      "dtypes: float64(8), int64(6), object(14)\n",
      "memory usage: 332.0+ KB\n"
     ]
    }
   ],
   "source": [
    "df.info()"
   ]
  },
  {
   "cell_type": "code",
   "execution_count": 4,
   "metadata": {
    "azdata_cell_guid": "e1dc66ef-e471-4c27-92e7-ee878c106eba"
   },
   "outputs": [
    {
     "data": {
      "text/html": [
       "<div>\n",
       "<style scoped>\n",
       "    .dataframe tbody tr th:only-of-type {\n",
       "        vertical-align: middle;\n",
       "    }\n",
       "\n",
       "    .dataframe tbody tr th {\n",
       "        vertical-align: top;\n",
       "    }\n",
       "\n",
       "    .dataframe thead th {\n",
       "        text-align: right;\n",
       "    }\n",
       "</style>\n",
       "<table border=\"1\" class=\"dataframe\">\n",
       "  <thead>\n",
       "    <tr style=\"text-align: right;\">\n",
       "      <th></th>\n",
       "      <th>Unnamed: 0</th>\n",
       "      <th>age_at_diagnosis</th>\n",
       "      <th>type_of_breast_surgery</th>\n",
       "      <th>cancer_type</th>\n",
       "      <th>cancer_type_detailed</th>\n",
       "      <th>cellularity</th>\n",
       "      <th>chemotherapy</th>\n",
       "      <th>pam50_claudin_low_subtype</th>\n",
       "      <th>cohort</th>\n",
       "      <th>estrogen_status</th>\n",
       "      <th>...</th>\n",
       "      <th>nottingham_prognostic_index</th>\n",
       "      <th>oncotree_code</th>\n",
       "      <th>overall_survival_months</th>\n",
       "      <th>overall_survival</th>\n",
       "      <th>progesterone_status</th>\n",
       "      <th>radio_therapy</th>\n",
       "      <th>3-gene_classifier_subtype</th>\n",
       "      <th>tumor_size</th>\n",
       "      <th>death_from_cancer</th>\n",
       "      <th>overall_survival_years</th>\n",
       "    </tr>\n",
       "  </thead>\n",
       "  <tbody>\n",
       "    <tr>\n",
       "      <th>0</th>\n",
       "      <td>1</td>\n",
       "      <td>43.19</td>\n",
       "      <td>BREAST CONSERVING</td>\n",
       "      <td>Breast Cancer</td>\n",
       "      <td>Breast Invasive Ductal Carcinoma</td>\n",
       "      <td>High</td>\n",
       "      <td>0</td>\n",
       "      <td>LumA</td>\n",
       "      <td>1.0</td>\n",
       "      <td>Positive</td>\n",
       "      <td>...</td>\n",
       "      <td>4.02</td>\n",
       "      <td>IDC</td>\n",
       "      <td>84.63</td>\n",
       "      <td>1</td>\n",
       "      <td>Positive</td>\n",
       "      <td>1</td>\n",
       "      <td>ER+/HER2- High Prolif</td>\n",
       "      <td>10.0</td>\n",
       "      <td>Living</td>\n",
       "      <td>7</td>\n",
       "    </tr>\n",
       "    <tr>\n",
       "      <th>1</th>\n",
       "      <td>4</td>\n",
       "      <td>76.97</td>\n",
       "      <td>MASTECTOMY</td>\n",
       "      <td>Breast Cancer</td>\n",
       "      <td>Breast Mixed Ductal and Lobular Carcinoma</td>\n",
       "      <td>High</td>\n",
       "      <td>1</td>\n",
       "      <td>LumB</td>\n",
       "      <td>1.0</td>\n",
       "      <td>Positive</td>\n",
       "      <td>...</td>\n",
       "      <td>6.08</td>\n",
       "      <td>MDLC</td>\n",
       "      <td>41.37</td>\n",
       "      <td>0</td>\n",
       "      <td>Positive</td>\n",
       "      <td>1</td>\n",
       "      <td>ER+/HER2- High Prolif</td>\n",
       "      <td>40.0</td>\n",
       "      <td>Died of Disease</td>\n",
       "      <td>3</td>\n",
       "    </tr>\n",
       "    <tr>\n",
       "      <th>2</th>\n",
       "      <td>5</td>\n",
       "      <td>78.77</td>\n",
       "      <td>MASTECTOMY</td>\n",
       "      <td>Breast Cancer</td>\n",
       "      <td>Breast Invasive Ductal Carcinoma</td>\n",
       "      <td>Moderate</td>\n",
       "      <td>0</td>\n",
       "      <td>LumB</td>\n",
       "      <td>1.0</td>\n",
       "      <td>Positive</td>\n",
       "      <td>...</td>\n",
       "      <td>4.06</td>\n",
       "      <td>IDC</td>\n",
       "      <td>7.80</td>\n",
       "      <td>0</td>\n",
       "      <td>Positive</td>\n",
       "      <td>1</td>\n",
       "      <td>ER+/HER2- High Prolif</td>\n",
       "      <td>31.0</td>\n",
       "      <td>Died of Disease</td>\n",
       "      <td>1</td>\n",
       "    </tr>\n",
       "    <tr>\n",
       "      <th>3</th>\n",
       "      <td>8</td>\n",
       "      <td>86.41</td>\n",
       "      <td>BREAST CONSERVING</td>\n",
       "      <td>Breast Cancer</td>\n",
       "      <td>Breast Invasive Ductal Carcinoma</td>\n",
       "      <td>Moderate</td>\n",
       "      <td>0</td>\n",
       "      <td>LumB</td>\n",
       "      <td>1.0</td>\n",
       "      <td>Positive</td>\n",
       "      <td>...</td>\n",
       "      <td>5.03</td>\n",
       "      <td>IDC</td>\n",
       "      <td>36.57</td>\n",
       "      <td>0</td>\n",
       "      <td>Negative</td>\n",
       "      <td>1</td>\n",
       "      <td>ER+/HER2- High Prolif</td>\n",
       "      <td>16.0</td>\n",
       "      <td>Died of Other Causes</td>\n",
       "      <td>3</td>\n",
       "    </tr>\n",
       "    <tr>\n",
       "      <th>4</th>\n",
       "      <td>9</td>\n",
       "      <td>84.22</td>\n",
       "      <td>MASTECTOMY</td>\n",
       "      <td>Breast Cancer</td>\n",
       "      <td>Breast Invasive Lobular Carcinoma</td>\n",
       "      <td>High</td>\n",
       "      <td>0</td>\n",
       "      <td>Her2</td>\n",
       "      <td>1.0</td>\n",
       "      <td>Positive</td>\n",
       "      <td>...</td>\n",
       "      <td>3.06</td>\n",
       "      <td>ILC</td>\n",
       "      <td>36.27</td>\n",
       "      <td>0</td>\n",
       "      <td>Negative</td>\n",
       "      <td>0</td>\n",
       "      <td>ER+/HER2- High Prolif</td>\n",
       "      <td>28.0</td>\n",
       "      <td>Died of Disease</td>\n",
       "      <td>3</td>\n",
       "    </tr>\n",
       "  </tbody>\n",
       "</table>\n",
       "<p>5 rows × 28 columns</p>\n",
       "</div>"
      ],
      "text/plain": [
       "   Unnamed: 0  age_at_diagnosis type_of_breast_surgery    cancer_type  \\\n",
       "0           1             43.19      BREAST CONSERVING  Breast Cancer   \n",
       "1           4             76.97             MASTECTOMY  Breast Cancer   \n",
       "2           5             78.77             MASTECTOMY  Breast Cancer   \n",
       "3           8             86.41      BREAST CONSERVING  Breast Cancer   \n",
       "4           9             84.22             MASTECTOMY  Breast Cancer   \n",
       "\n",
       "                        cancer_type_detailed cellularity  chemotherapy  \\\n",
       "0           Breast Invasive Ductal Carcinoma        High             0   \n",
       "1  Breast Mixed Ductal and Lobular Carcinoma        High             1   \n",
       "2           Breast Invasive Ductal Carcinoma    Moderate             0   \n",
       "3           Breast Invasive Ductal Carcinoma    Moderate             0   \n",
       "4          Breast Invasive Lobular Carcinoma        High             0   \n",
       "\n",
       "  pam50_claudin_low_subtype  cohort estrogen_status  ...  \\\n",
       "0                      LumA     1.0        Positive  ...   \n",
       "1                      LumB     1.0        Positive  ...   \n",
       "2                      LumB     1.0        Positive  ...   \n",
       "3                      LumB     1.0        Positive  ...   \n",
       "4                      Her2     1.0        Positive  ...   \n",
       "\n",
       "   nottingham_prognostic_index oncotree_code overall_survival_months  \\\n",
       "0                         4.02           IDC                   84.63   \n",
       "1                         6.08          MDLC                   41.37   \n",
       "2                         4.06           IDC                    7.80   \n",
       "3                         5.03           IDC                   36.57   \n",
       "4                         3.06           ILC                   36.27   \n",
       "\n",
       "   overall_survival progesterone_status radio_therapy  \\\n",
       "0                 1            Positive             1   \n",
       "1                 0            Positive             1   \n",
       "2                 0            Positive             1   \n",
       "3                 0            Negative             1   \n",
       "4                 0            Negative             0   \n",
       "\n",
       "   3-gene_classifier_subtype  tumor_size     death_from_cancer  \\\n",
       "0      ER+/HER2- High Prolif        10.0                Living   \n",
       "1      ER+/HER2- High Prolif        40.0       Died of Disease   \n",
       "2      ER+/HER2- High Prolif        31.0       Died of Disease   \n",
       "3      ER+/HER2- High Prolif        16.0  Died of Other Causes   \n",
       "4      ER+/HER2- High Prolif        28.0       Died of Disease   \n",
       "\n",
       "  overall_survival_years  \n",
       "0                      7  \n",
       "1                      3  \n",
       "2                      1  \n",
       "3                      3  \n",
       "4                      3  \n",
       "\n",
       "[5 rows x 28 columns]"
      ]
     },
     "execution_count": 4,
     "metadata": {},
     "output_type": "execute_result"
    }
   ],
   "source": [
    "df.head()"
   ]
  },
  {
   "cell_type": "code",
   "execution_count": 5,
   "metadata": {},
   "outputs": [
    {
     "data": {
      "text/plain": [
       "Unnamed: 0                        1517\n",
       "age_at_diagnosis                  1298\n",
       "type_of_breast_surgery               2\n",
       "cancer_type                          1\n",
       "cancer_type_detailed                 5\n",
       "cellularity                          3\n",
       "chemotherapy                         2\n",
       "pam50_claudin_low_subtype            7\n",
       "cohort                               5\n",
       "estrogen_status                      2\n",
       "neoplasm_histologic_grade            3\n",
       "her2_status                          2\n",
       "tumor_other_histologic_subtype       7\n",
       "hormone_therapy                      2\n",
       "inferred_menopausal_state            2\n",
       "integrative_cluster                 11\n",
       "lymph_nodes_examined_positive       28\n",
       "mutation_count                      27\n",
       "nottingham_prognostic_index         85\n",
       "oncotree_code                        5\n",
       "overall_survival_months           1382\n",
       "overall_survival                     2\n",
       "progesterone_status                  2\n",
       "radio_therapy                        2\n",
       "3-gene_classifier_subtype            4\n",
       "tumor_size                         106\n",
       "death_from_cancer                    3\n",
       "overall_survival_years              28\n",
       "dtype: int64"
      ]
     },
     "execution_count": 5,
     "metadata": {},
     "output_type": "execute_result"
    }
   ],
   "source": [
    "# Checking the unique value counts\n",
    "df.nunique()"
   ]
  },
  {
   "cell_type": "code",
   "execution_count": 6,
   "metadata": {},
   "outputs": [],
   "source": [
    "# Segregating data frame to a numerical categories\n",
    "num_df = ['age_at_diagnosis', 'lymph_nodes_examined_positive','mutation_count',\n",
    "          'nottingham_prognostic_index', 'overall_survival', 'overall_survival_months', 'tumor_size','chemotherapy', ]"
   ]
  },
  {
   "cell_type": "code",
   "execution_count": 7,
   "metadata": {},
   "outputs": [],
   "source": [
    "# Segregating data frame to a categorical categories\n",
    "cat_df = [  'pam50_claudin_low_subtype','estrogen_status']"
   ]
  },
  {
   "cell_type": "code",
   "execution_count": 13,
   "metadata": {},
   "outputs": [],
   "source": [
    "# Creating a combination of treatments\n",
    "died = df[df['overall_survival']==0]\n",
    "survived = df[df['overall_survival']==1]\n",
    "mastectomy = (df[df['type_of_breast_surgery']=='mastectomy'])\n",
    "chemo = (df[(df['chemotherapy']==1) & (df['radio_therapy']==0) & (df['chemotherapy']==0)])\n",
    "radio = (df[(df['radio_therapy']==1) & (df['chemotherapy']==0) & (df['hormone_therapy']==0)])\n",
    "hormone = (df[(df['hormone_therapy']==1) & (df['chemotherapy']==0) & (df['radio_therapy']==0)])  \n",
    "chemo_radio = (df[(df['chemotherapy']==1) & (df['radio_therapy']==1) & (df['chemotherapy']==0)])\n",
    "hormone_radio = (df[(df['hormone_therapy']==1) & (df['radio_therapy']==0) & (df['chemotherapy']==1)])\n",
    "chemo_hormone = (df[(df['chemotherapy']==1) & (df['radio_therapy']==0) & (df['hormone_therapy']==1)])\n",
    "all_treatment = (df[(df['chemotherapy']==1) & (df['radio_therapy']==1) & (df['chemotherapy']==1)])\n",
    "no_treatment = (df[(df['chemotherapy']==0) & (df['radio_therapy']==0) & (df['chemotherapy']==0)])"
   ]
  },
  {
   "cell_type": "code",
   "execution_count": 17,
   "metadata": {},
   "outputs": [],
   "source": [
    "#Dictionary of the counts for each treatment \n",
    "treatmentDict = { 'Mastectomy_counts': mastectomy, 'Chemotherapy': chemo, 'Hormone_Therapy':hormone, 'Radio_Therapy': radio}"
   ]
  },
  {
   "cell_type": "code",
   "execution_count": 25,
   "metadata": {},
   "outputs": [
    {
     "name": "stdout",
     "output_type": "stream",
     "text": [
      "                                   Mastectomy_counts  \\\n",
      "0  Empty DataFrame\n",
      "Columns: [Unnamed: 0, age_at_d...   \n",
      "\n",
      "                                        Chemotherapy  \\\n",
      "0  Empty DataFrame\n",
      "Columns: [Unnamed: 0, age_at_d...   \n",
      "\n",
      "                                     Hormone_Therapy  \\\n",
      "0        Unnamed: 0  age_at_diagnosis type_of_bre...   \n",
      "\n",
      "                                       Radio_Therapy  \n",
      "0        Unnamed: 0  age_at_diagnosis type_of_bre...  \n"
     ]
    }
   ],
   "source": [
    "df1 = pd.DataFrame.from_dict([treatmentDict])\n",
    "print(df1)\n"
   ]
  },
  {
   "cell_type": "markdown",
   "metadata": {},
   "source": [
    "Reference for below: https://towardsdatascience.com/create-new-column-based-on-other-columns-pandas-5586d87de73d\n",
    "Creating Pivot Tables: https://towardsdatascience.com/pivot-tables-in-pandas-with-hands-on-examples-in-python-9f29a48796f2"
   ]
  },
  {
   "cell_type": "code",
   "execution_count": 26,
   "metadata": {},
   "outputs": [
    {
     "data": {
      "text/html": [
       "<div>\n",
       "<style scoped>\n",
       "    .dataframe tbody tr th:only-of-type {\n",
       "        vertical-align: middle;\n",
       "    }\n",
       "\n",
       "    .dataframe tbody tr th {\n",
       "        vertical-align: top;\n",
       "    }\n",
       "\n",
       "    .dataframe thead tr th {\n",
       "        text-align: left;\n",
       "    }\n",
       "</style>\n",
       "<table border=\"1\" class=\"dataframe\">\n",
       "  <thead>\n",
       "    <tr>\n",
       "      <th></th>\n",
       "      <th colspan=\"8\" halign=\"left\">sum</th>\n",
       "    </tr>\n",
       "    <tr>\n",
       "      <th>chemotherapy</th>\n",
       "      <th colspan=\"4\" halign=\"left\">0</th>\n",
       "      <th colspan=\"4\" halign=\"left\">1</th>\n",
       "    </tr>\n",
       "    <tr>\n",
       "      <th>hormone_therapy</th>\n",
       "      <th colspan=\"2\" halign=\"left\">0</th>\n",
       "      <th colspan=\"2\" halign=\"left\">1</th>\n",
       "      <th colspan=\"2\" halign=\"left\">0</th>\n",
       "      <th colspan=\"2\" halign=\"left\">1</th>\n",
       "    </tr>\n",
       "    <tr>\n",
       "      <th>radio_therapy</th>\n",
       "      <th>0</th>\n",
       "      <th>1</th>\n",
       "      <th>0</th>\n",
       "      <th>1</th>\n",
       "      <th>0</th>\n",
       "      <th>1</th>\n",
       "      <th>0</th>\n",
       "      <th>1</th>\n",
       "    </tr>\n",
       "  </thead>\n",
       "  <tbody>\n",
       "    <tr>\n",
       "      <th>overall_survival</th>\n",
       "      <td>84</td>\n",
       "      <td>102</td>\n",
       "      <td>108</td>\n",
       "      <td>214</td>\n",
       "      <td>13</td>\n",
       "      <td>62</td>\n",
       "      <td>9</td>\n",
       "      <td>61</td>\n",
       "    </tr>\n",
       "  </tbody>\n",
       "</table>\n",
       "</div>"
      ],
      "text/plain": [
       "                 sum                              \n",
       "chemotherapy       0                  1           \n",
       "hormone_therapy    0         1        0      1    \n",
       "radio_therapy      0    1    0    1   0   1  0   1\n",
       "overall_survival  84  102  108  214  13  62  9  61"
      ]
     },
     "execution_count": 26,
     "metadata": {},
     "output_type": "execute_result"
    }
   ],
   "source": [
    "np.round(pd.pivot_table(df, \n",
    "                        columns=['chemotherapy', 'hormone_therapy', 'radio_therapy'], values='overall_survival', \n",
    "                                aggfunc=[np.sum]))"
   ]
  },
  {
   "cell_type": "code",
   "execution_count": 27,
   "metadata": {},
   "outputs": [],
   "source": [
    "treatmentlist = [chemo, radio, hormone, chemo_radio, hormone_radio, chemo_hormone, all_treatment, no_treatment]"
   ]
  },
  {
   "cell_type": "code",
   "execution_count": 28,
   "metadata": {},
   "outputs": [],
   "source": [
    "treatments = {'Chemo' : chemo, 'Radio' : radio}"
   ]
  },
  {
   "cell_type": "code",
   "execution_count": 29,
   "metadata": {},
   "outputs": [],
   "source": [
    "#Get the overall survival % in 100%. \n",
    "mastectomyCounts = (df[\"type_of_breast_surgery\"].value_counts()[1]/df[\"type_of_breast_surgery\"].value_counts().sum())*100\n",
    "chemoCounts = (df[\"chemotherapy\"].value_counts()[1]/df[\"chemotherapy\"].value_counts().sum())*100\n",
    "hormoneCounts = (df[\"hormone_therapy\"].value_counts()[1]/df[\"hormone_therapy\"].value_counts().sum())*100\n",
    "radioCounts = (df[\"radio_therapy\"].value_counts()[1]/df[\"radio_therapy\"].value_counts().sum())*100\n"
   ]
  },
  {
   "cell_type": "code",
   "execution_count": 30,
   "metadata": {},
   "outputs": [],
   "source": [
    "#Dictionary of the survival % for each treatment \n",
    "treatmentSurvivalDict = {'Mastectomy': mastectomyCounts, 'Chemotherapy': chemoCounts, 'Hormone Therapy':hormoneCounts, 'Radio Therapy': radioCounts}"
   ]
  },
  {
   "cell_type": "code",
   "execution_count": 31,
   "metadata": {},
   "outputs": [
    {
     "data": {
      "image/png": "[encoded data removed]",
      "text/plain": [
       "<Figure size 750x500 with 1 Axes>"
      ]
     },
     "metadata": {},
     "output_type": "display_data"
    }
   ],
   "source": [
    "#Plot of each treatment \n",
    "plt.figure(figsize=(7.5,5))\n",
    "plt.bar(list(treatmentSurvivalDict.keys()), list(treatmentSurvivalDict.values()))\n",
    "plt.xlabel(\"Treatment\", fontsize=15)\n",
    "plt.ylabel(\"Survival %\", fontsize=15)\n",
    "plt.xticks(size=12)\n",
    "plt.yticks(size=12)\n",
    "\n",
    "plt.tight_layout()"
   ]
  },
  {
   "cell_type": "code",
   "execution_count": null,
   "metadata": {},
   "outputs": [],
   "source": []
  },
  {
   "cell_type": "code",
   "execution_count": null,
   "metadata": {},
   "outputs": [],
   "source": []
  }
 ],
 "metadata": {
  "kernelspec": {
   "display_name": "Python 3 (ipykernel)",
   "language": "python",
   "name": "python3"
  },
  "language_info": {
   "codemirror_mode": {
    "name": "ipython",
    "version": 3
   },
   "file_extension": ".py",
   "mimetype": "text/x-python",
   "name": "python",
   "nbconvert_exporter": "python",
   "pygments_lexer": "ipython3",
   "version": "3.10.9"
  }
 },
 "nbformat": 4,
 "nbformat_minor": 2
}
